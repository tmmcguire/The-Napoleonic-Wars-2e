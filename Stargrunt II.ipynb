{
 "cells": [
  {
   "cell_type": "markdown",
   "metadata": {},
   "source": [
    "# Stargunt II\n",
    "\n",
    "Let's take a look at combat odds in Stargrunt II.\n",
    "\n",
    "(If you aren't a programmer, or just want to, you can ignore things like the block below; that is Python code to calculate and format the probabilities.)"
   ]
  },
  {
   "cell_type": "code",
   "execution_count": 1,
   "metadata": {},
   "outputs": [],
   "source": [
    "import scipy\n",
    "from scipy.stats import binom\n",
    "from prettytable import PrettyTable"
   ]
  },
  {
   "cell_type": "markdown",
   "metadata": {},
   "source": [
    "We need some functions:\n",
    "\n",
    "- prob: Probability of rolling a given value on a single d-sided dice.\n",
    "- prob_gt: Probability of rolling greater than v on a single d-sided dice.\n",
    "- prob_opposed: Probability of offensive win, given defense rolling d-sided die and offense rolling o-sided die.\n",
    "  See opposed die rolls below. `factor` is a multiplier of the offensive value (see [Wounds and kills below](http://localhost:8889/notebooks/Stargrunt%20II.ipynb#Wounds-and-kills)).\n",
    "- prod: Like sum(), but more multiplier.\n",
    "- by_one: Iterate over the list os, yielding a pair of each element and the remaining list.\n",
    "- inv: The probability of not-p.\n",
    "- pct: Return a relatively pretty percentage string."
   ]
  },
  {
   "cell_type": "code",
   "execution_count": 2,
   "metadata": {},
   "outputs": [],
   "source": [
    "def prob(d):\n",
    "    return 1 / d\n",
    "\n",
    "def prob_gt(d, v):\n",
    "    if d > v:\n",
    "        return (d - v) * prob(d)\n",
    "    else:\n",
    "        return 0.0\n",
    "\n",
    "def prob_opposed(d, o, factor=1):\n",
    "    sum = 0.0\n",
    "    for i in range(1, d + 1):\n",
    "        sum += prob(d) * prob_gt(o, i * factor)\n",
    "    return sum\n",
    "\n",
    "def prod(vs):\n",
    "    return reduce(operator.mul, vs, 1.0)\n",
    "\n",
    "def by_one(os):\n",
    "    for i in range(len(os)):\n",
    "        yield (os[i], os[0:i] + os[i+1:])\n",
    "\n",
    "def inv(p):\n",
    "    return 1 - p\n",
    "\n",
    "def pct(p):\n",
    "    return f'{p*100:2.3}%'"
   ]
  },
  {
   "cell_type": "markdown",
   "metadata": {},
   "source": [
    "## Opposed die rolls\n",
    "\n",
    "Stargrunt uses an \"opposed die roll\" mechanism; one player, the defense, rolls one die and the other player, the offense, rolls one or more dice, counting the number of successes where an offensive die is greater than the defensive die. The game uses the following dice to adjust the difficulty of the roll: 4-sided (D4), 6-sided (D6), 8-sided (D8), 10-sided (D10), 12-sided (D12). In the following table, the defensive die is on the vertical axis, the offensive die is on the horizontal axis."
   ]
  },
  {
   "cell_type": "code",
   "execution_count": 3,
   "metadata": {},
   "outputs": [
    {
     "name": "stdout",
     "output_type": "stream",
     "text": [
      "+-----+-------+-------+-------+-------+-------+\n",
      "|     |   D4  |   D6  |   D8  |  D10  |  D12  |\n",
      "+-----+-------+-------+-------+-------+-------+\n",
      "|  D4 | 37.5% | 58.3% | 68.8% | 75.0% | 79.2% |\n",
      "|  D6 | 25.0% | 41.7% | 56.2% | 65.0% | 70.8% |\n",
      "|  D8 | 18.8% | 31.2% | 43.8% | 55.0% | 62.5% |\n",
      "| D10 | 15.0% | 25.0% | 35.0% | 45.0% | 54.2% |\n",
      "| D12 | 12.5% | 20.8% | 29.2% | 37.5% | 45.8% |\n",
      "+-----+-------+-------+-------+-------+-------+\n"
     ]
    }
   ],
   "source": [
    "DiceRange = [4, 6, 8, 10, 12]\n",
    "M = PrettyTable()\n",
    "M.field_names = [''] + ['D%s' % d for d in DiceRange]\n",
    "for d in DiceRange:\n",
    "    M.add_row([f\"D{d}\"] + [f\"{pct(prob_opposed(d,o))}\" for o in DiceRange])\n",
    "print(M)"
   ]
  },
  {
   "cell_type": "markdown",
   "metadata": {},
   "source": [
    "For example, rolling a D6 against a D8 yields a 31.2% chance of success. Likewise, a D10 against a D4 has a 75% chance of success.\n",
    "\n",
    "## Multiple oppossed rolls\n",
    "\n",
    "You will notice that it's not symmetrical: a D4 rolling against another D4 only has a 37.5% chance of success. This is because ties are broken in favor of the defensive roll: a 2 rolled against another 2 is not a success.\n",
    "\n",
    "The fire procedure in Stargrunt has the defender rolling one die and the attacker rolling two or more. The outcome of the roll is \n",
    "\n",
    "- Failure, if none of the rolls succeed,\n",
    "- Minor success, if one of the rolls succeds, or\n",
    "- Major success, if two or more of the rolls succeed."
   ]
  },
  {
   "cell_type": "code",
   "execution_count": 4,
   "metadata": {
    "scrolled": true
   },
   "outputs": [
    {
     "data": {
      "text/plain": [
       "1.0"
      ]
     },
     "execution_count": 4,
     "metadata": {},
     "output_type": "execute_result"
    }
   ],
   "source": [
    "from functools import reduce\n",
    "import operator\n",
    "\n",
    "def prob_failure(d, os):\n",
    "    if len(os) == 0: return 0.0\n",
    "    return prod([inv(prob_opposed(d, o)) for o in os])\n",
    "\n",
    "def prob_minor(d, os):\n",
    "    if len(os) == 0: return 0.0\n",
    "    return sum([\n",
    "        prob_opposed(d, o1) * prod(map(lambda x: inv(prob_opposed(d, x)), os2))\n",
    "        for (o1, os2) in by_one(os)\n",
    "    ])\n",
    "\n",
    "def prob_major(d, os):\n",
    "    if len(os) == 0: return 0.0\n",
    "    sum = 0.0\n",
    "    f   = 1.0\n",
    "    for i in range(len(os)):\n",
    "        g = 1.0\n",
    "        for j in range(i + 1, len(os)):\n",
    "            sum += f * g * prob_opposed(d, os[i]) * prob_opposed(d, os[j])\n",
    "            g   *= 1 - prob_opposed(d, os[j])\n",
    "        f *= inv(prob_opposed(d, os[i]))\n",
    "    return sum\n",
    "\n",
    "(prob_failure(4,[6,8,10,12]) + prob_minor(4,[6,8,10,12]) + prob_major(4,[6,8,10,12]))"
   ]
  },
  {
   "cell_type": "markdown",
   "metadata": {},
   "source": [
    "And yay! The probabilities of the three possibiliies add up to 1.0.\n",
    "\n",
    "### A firing example\n",
    "\n",
    "There are a number of details needed to work out the results of fire combat.\n",
    "\n",
    "**Unit quality, coupled with a die type and range band width.**\n",
    "\n",
    "| Unit Quality | Die | Range band |\n",
    "| ---          | --- | ---------- |\n",
    "| Untrained | D4 | 4'' |\n",
    "| Green     | D6 | 6'' |\n",
    "| Regular   | D8 | 8'' |\n",
    "| Veteran   | D10 | 10'' |\n",
    "| Elite     | D12 | 12'' |\n",
    "\n",
    "The range band is used to provide the defensive die on an opposed roll: A target within the first range band has a range die of D4, each farther range band shifts up one die type. Also, cover and a few other factors increase the range die.\n",
    "\n",
    "**Armor type and armor die.**\n",
    "\n",
    "| Armor type | Armor die |\n",
    "| ---------- | --------- |\n",
    "| Basic battledress | D4 |\n",
    "| Partial light armor | D6 |\n",
    "| Full light armor | D8 |\n",
    "| Combat power suit / light powered armor | D10 |\n",
    "| Heavy power armor | D12 |\n",
    "\n",
    "The Armor die of a target is used as the defensive die in an opposed roll to determine the damage resulting from hits.\n",
    "\n",
    "**Normal squad small arms, with firepower value (used to determine hits) and impact value (to determine damage).**\n",
    "\n",
    "| Weapon | Firepower value | Impact value |\n",
    "| ------ | --------------- | ------------ |\n",
    "| Hunting Rifle | 1 | D10 |\n",
    "| Assault Rifle, low-tech | 2 | D8 |\n",
    "| Assault Rifle, low-tech, grenade launcher | 3 | D8 |\n",
    "| Assault Rifle, advanced | 2 | D10 |\n",
    "| Assault Rifle, advanced, grenade launcher | 3 | D10 |\n",
    "| Gauss Rifle | 2 | D12 |\n",
    "| Gauss Rifle, grenade launcher | 3 | D12 |\n",
    "\n",
    "The firepower value of a squad are multiplied by the number of soldiers carrying them, rounded up to the next die type, with a maximum die type of D12. The impact value is used as the offensive die in the damage roll.\n",
    "\n",
    "**Squad support weapns, with support firepower and impact value.**\n",
    "\n",
    "| Weapon | Firepower die | Impact value |\n",
    "| ------ | --------------- | ------------ |\n",
    "| Conventional machine gun (SAW) | D8 | D10 |\n",
    "| Rotary machine gun (SAW) | D10 | D10 |\n",
    "| Gauss machine gun (SAW) | D10 | D12 |\n",
    "| Infantry plasma gun | D6 | D12* |\n",
    "| Automatic grenade launcher | D12 | D8* |\n",
    "| Multiple rocket launcher pack (MLP) | D8 | D8* |\n",
    "| Infantry anti-vehicle rocket | D10 | D12* |\n",
    "\n",
    "The firepower die are used as part of the multiple opposed roll to determine initial hits.\n",
    "\n",
    "Starred impact values indicate anti-vehicle use.\n",
    "\n",
    "\n",
    "**Example 1**\n",
    "\n",
    "A regular (D8) squad of 8  soldiers consisting of 7 advanced assault rifles (In Stargrunt, the number of small arms (7) is multiplied by a firepower factor (2) and the result rounded up to the next die type, limited to D12.) and the squad's Gauss machine gun (firepower of D10) fires on another squad wearing partial light armor (D6), behind soft cover, at a distance of about 140 meters (14'' ground scale, range band 2 for regular troops, up one for the cover: range die of D8)."
   ]
  },
  {
   "cell_type": "code",
   "execution_count": 5,
   "metadata": {},
   "outputs": [
    {
     "name": "stdout",
     "output_type": "stream",
     "text": [
      "9.49% failure, 34.8% minor success, and 55.7% major success\n"
     ]
    }
   ],
   "source": [
    "ex1_pf = prob_failure(8, [8,12,10])\n",
    "ex1_pmi = prob_minor(8, [8,12,10])\n",
    "ex1_pma = prob_major(8, [8,12,10])\n",
    "print(f'{pct(ex1_pf)} failure, {pct(ex1_pmi)} minor success, and {pct(ex1_pma)} major success')"
   ]
  },
  {
   "cell_type": "markdown",
   "metadata": {},
   "source": [
    "The results are a 9.5% chance of a failure, resulting in no hits, a 34.8% chance of a minor success, resulting in the targeted squad being suppressed, and a 55.7% chance of a major success, resulting in suppression and possible casualties.\n",
    "\n",
    "**Example 2**\n",
    "\n",
    "If the same squad attacks without using the Gauss machine gun, and at 400 meters, the results are different."
   ]
  },
  {
   "cell_type": "code",
   "execution_count": 6,
   "metadata": {},
   "outputs": [
    {
     "name": "stdout",
     "output_type": "stream",
     "text": [
      "38.4% failure, 48.3% minor success, and 13.4% major success\n"
     ]
    }
   ],
   "source": [
    "ex2_pf = prob_failure(12,[8,12])\n",
    "ex2_pmi = prob_minor(12,[8,12])\n",
    "ex2_pma = prob_major(12,[8,12])\n",
    "print(f'{pct(ex2_pf)} failure, {pct(ex2_pmi)} minor success, and {pct(ex2_pma)} major success')"
   ]
  },
  {
   "cell_type": "markdown",
   "metadata": {},
   "source": [
    "In this case, a minor success (and suppression) is most likely and there is a higher probability of a failure.\n",
    "\n",
    "### Suppression\n",
    "\n",
    "A squad which is suppressed cannot take most actions until its suppression is relieved. (In addition, squad may be suppressed multiple times, which must be relieved one at a time.) Removing suppression requires the squad to roll the unit quality die (D8 in the examples above) greater than the squad leader's leadership value."
   ]
  },
  {
   "cell_type": "code",
   "execution_count": 18,
   "metadata": {},
   "outputs": [
    {
     "name": "stdout",
     "output_type": "stream",
     "text": [
      "+------------+-----------+-------+---------+--------+-------+\n",
      "| Leadership | Untrained | Green | Regular | Vetran | Elite |\n",
      "+------------+-----------+-------+---------+--------+-------+\n",
      "| LV1 (Good) |   75.0%   | 83.3% |  87.5%  | 90.0%  | 91.7% |\n",
      "| LV2 (Avg)  |   50.0%   | 66.7% |  75.0%  | 80.0%  | 83.3% |\n",
      "| LV3 (Poor) |   25.0%   | 50.0% |  62.5%  | 70.0%  | 75.0% |\n",
      "+------------+-----------+-------+---------+--------+-------+\n"
     ]
    }
   ],
   "source": [
    "M = PrettyTable()\n",
    "M.field_names = [\n",
    "    'Leadership', 'Untrained', 'Green', 'Regular', 'Vetran', 'Elite'\n",
    "]\n",
    "M.add_row(['LV1 (Good)'] + [f'{pct(prob_gt(d, 1))}' for d in DiceRange])\n",
    "M.add_row(['LV2 (Avg)']  + [f'{pct(prob_gt(d, 2))}' for d in DiceRange])\n",
    "M.add_row(['LV3 (Poor)'] + [f'{pct(prob_gt(d, 3))}' for d in DiceRange])\n",
    "print(M)"
   ]
  },
  {
   "cell_type": "markdown",
   "metadata": {},
   "source": [
    "In the examples, I'll assume the targeted squad is also regular (D8) quality with 8 soldiers and average (LV2) leadership. Therefore, the squad as a 75% chance of removing suppression.\n",
    "\n",
    "### Potential hits\n",
    "\n",
    "In the case of a major success, the number of potential hits is calculated by totaling the offensive dice and dividing by the range die type. To calculate the total, I will use the expected value of the given dice. This is given by the average of the values on the die."
   ]
  },
  {
   "cell_type": "code",
   "execution_count": 8,
   "metadata": {},
   "outputs": [],
   "source": [
    "def expected(d):\n",
    "    return sum(range(1, d+1)) / d\n",
    "\n",
    "def potential_hits(rd, os):\n",
    "    return sum([expected(o) for o in os]) / rd"
   ]
  },
  {
   "cell_type": "markdown",
   "metadata": {
    "variables": {
     " expected(10) ": "5.5",
     " expected(12) ": "6.5",
     " expected(4) ": "2.5",
     " expected(6) ": "3.5",
     " expected(8) ": "4.5",
     "potential_hits(12,[8,12])": "0.9166666666666666",
     "potential_hits(8,[8,12,10])": "2.0625"
    }
   },
   "source": [
    "| Die  | Expected value |\n",
    "| ---  | -------------- |\n",
    "| D4  | {{ expected(4) }} |\n",
    "| D6  | {{ expected(6) }} |\n",
    "| D8  | {{ expected(8) }} |\n",
    "| D10  | {{ expected(10) }} |\n",
    "| D12  | {{ expected(12) }} |\n",
    "\n",
    "**Example 1 (cont'd)**\n",
    "\n",
    "Assuming the squad rolls a major success, the potential hits are potential_hits(8,[8,12,10]), {{potential_hits(8,[8,12,10])}}.\n",
    "\n",
    "**Example 2 (cont'd)**\n",
    "\n",
    "In this case, if the squad rolls a major success, the potential hits are {{potential_hits(12,[8,12])}}.\n",
    "\n",
    "### Wounds and kills\n",
    "\n",
    "Each potential hit is then treated one at a time (a partial hit, the result of the division, is handled by another roll to determine if you add the extra hit or not), with an opposed roll between the target's armor die versus the firer's impact die. If the impact roll is greater than the armor roll, a wound is sustained; if the impact roll is greater than twice the armor roll, the target is killed outright.\n",
    "\n",
    "The table below shows the probabilities of a wound/kill given the armor and impact dice."
   ]
  },
  {
   "cell_type": "code",
   "execution_count": 9,
   "metadata": {},
   "outputs": [
    {
     "name": "stdout",
     "output_type": "stream",
     "text": [
      "+-------+-------------+-------------+-------------+-------------+-------------+\n",
      "| Armor |  Impact D4  |  Impact D6  |  Impact D8  |  Impact D10 |  Impact D12 |\n",
      "+-------+-------------+-------------+-------------+-------------+-------------+\n",
      "|   D4  | 25.0%/12.5% | 33.3%/25.0% | 31.2%/37.5% | 25.0%/50.0% | 20.8%/58.3% |\n",
      "|   D6  | 16.7%/8.33% | 25.0%/16.7% | 31.2%/25.0% | 31.7%/33.3% | 29.2%/41.7% |\n",
      "|   D8  | 12.5%/6.25% | 18.8%/12.5% | 25.0%/18.8% | 30.0%/25.0% | 31.2%/31.2% |\n",
      "|  D10  |  10.0%/5.0% | 15.0%/10.0% | 20.0%/15.0% | 25.0%/20.0% | 29.2%/25.0% |\n",
      "|  D12  | 8.33%/4.17% | 12.5%/8.33% | 16.7%/12.5% | 20.8%/16.7% | 25.0%/20.8% |\n",
      "+-------+-------------+-------------+-------------+-------------+-------------+\n"
     ]
    }
   ],
   "source": [
    "def p_kill(a,d):\n",
    "    return prob_opposed(a,d,2)\n",
    "\n",
    "def p_wound(a,d):\n",
    "    return prob_opposed(a,d) - p_kill(a,d)\n",
    "\n",
    "M = PrettyTable()\n",
    "M.field_names = ['Armor'] + [f'Impact D{d}' for d in DiceRange]\n",
    "for a in DiceRange:\n",
    "    M.add_row(\n",
    "        [f'D{a}'] +\n",
    "        [f'{pct(p_wound(a,d))}/{pct(p_kill(a,d))}' for d in DiceRange])\n",
    "print(M)\n",
    "\n",
    "wound = p_wound(6,10)\n",
    "kill  = p_kill(6,10)\n",
    "uninj = inv(wound + kill)"
   ]
  },
  {
   "cell_type": "markdown",
   "metadata": {
    "variables": {
     " pct( 2 * uninj * kill ) ": "23.3%",
     " pct( 2 * wound * kill ) ": "21.1%",
     " pct( 2 * wound * uninj ) ": "22.2%",
     " pct( pow(kill,2) ) ": "11.1%",
     " pct( pow(wound, 2) ) ": "10.0%",
     "pct(kill)": "33.3%",
     "pct(wound)": "31.7%"
    }
   },
   "source": [
    "**Example 1 (cont'd)**\n",
    "\n",
    "There are 2 potential hits. The armor of the target is partial light armor (D6) and the impact of the advanced assualt rifle is D10, with the result of a {{pct(wound)}} chance of a wound and a {{pct(kill)}} chance of a kill. (Weirdly, the impact value of the support weapon is not used here.)\n",
    "\n",
    "| Wounds | Kills | Probability |\n",
    "| ------ | ----- | ----------- |\n",
    "| 0 | 0 | {{ pct( pow(kill,2) ) }} |\n",
    "| 1 | 0 | {{ pct( 2 * wound * uninj ) }} |\n",
    "| 2 | 0 | {{ pct( pow(wound, 2) ) }} |\n",
    "| 0 | 1 | {{ pct( 2 * uninj * kill ) }} |\n",
    "| 0 | 2 | {{ pct( pow(kill,2) ) }} |\n",
    "| 1 | 1 | {{ pct( 2 * wound * kill ) }} |\n",
    "\n",
    "**Example 2 (cont'd)**\n",
    "\n",
    "There is one potential hit, with a {{pct(wound)}} chance of wounding and {{pct(kill)}} chance of killing the target.\n",
    "\n",
    "### But wait, there's more\n",
    "\n",
    "A squad can reorganize, among other things performing first aid on wounded members. When doing so, the player rolls a D6.\n",
    "\n",
    "| Roll | Result |\n",
    "| ---- | ------ |\n",
    "| 1-2  | Death  |\n",
    "| 3-5  | Stable |\n",
    "| 6    | Ok     |\n",
    "\n",
    "Yes, there's a 2/6 chance that a soldier not killed outright can still die, and a 1/6 chance that the soldier can return to combat.\n",
    "\n",
    "### Wrapping up fire combat\n",
    "\n",
    "To wrap up, `fire_results` shows a summary of the results of one squad firing upon an other: the probability that the target is suppressed, the expected number of wounded, but stable, soldiers, and the expected nmuber of KIAs.\n",
    "\n",
    "- `prob_suppresed` is the probability of supression of the target.\n",
    "- `prob_hits` is the probability of one or more hits on the target.\n",
    "- `expected_hits` is the expected number of hits on the target (i.e., the probability of hits multiplied by the expected number of hits given the dice).\n",
    "- `expected_casualties` returns the expected number of targets wounded and killed (as a pair), given the dice. It includes the effects of fractional expected hits and the first aid roll.\n",
    "- `fire_results` prints out `prob_suppressed` and `expected_casualties` somewhat prettily."
   ]
  },
  {
   "cell_type": "code",
   "execution_count": 13,
   "metadata": {},
   "outputs": [
    {
     "name": "stdout",
     "output_type": "stream",
     "text": [
      "90.5% suppression\n",
      "0.18 expected wounds\n",
      "0.5 expected kills\n"
     ]
    }
   ],
   "source": [
    "def prob_suppressed(rangeD, firepowerDs):\n",
    "    return prob_minor(rangeD, firepowerDs) + prob_major(rangeD, firepowerDs)\n",
    "\n",
    "def prob_hits(rangeD, firepowerDs):\n",
    "    return prob_major(rangeD, firepowerDs)\n",
    "\n",
    "def expected_hits(rangeD, firepowerDs):\n",
    "    return prob_hits(rangeD, firepowerDs) * potential_hits(rangeD, firepowerDs)\n",
    "\n",
    "def expected_casualties(rangeD, armorD, firepowerDs, impactD):\n",
    "    eKills = 0.0\n",
    "    eWounds = 0.0\n",
    "    subTerm = 1.0\n",
    "    eHits = expected_hits(rangeD, firepowerDs)\n",
    "    while eHits > 0:\n",
    "        if eHits < subTerm:\n",
    "            subTerm = eHits\n",
    "        eKills  += subTerm * p_kill(armorD, impactD)\n",
    "        eWounds += subTerm * p_wound(armorD, impactD)\n",
    "        eHits -= subTerm\n",
    "    # First aid for wounds\n",
    "    eKills += (2.0/6.0) * eWounds\n",
    "    eWounds = (3.0/6.0) * eWounds\n",
    "    return (eWounds, eKills)\n",
    "\n",
    "def fire_results(rangeD, armorD, firepowerDs, impactD):\n",
    "    print(f'{pct(prob_suppressed(rangeD, firepowerDs))} suppression')\n",
    "    (eWound,eKill) = expected_casualties(rangeD, armorD, firepowerDs, impactD)\n",
    "    print(f'{eWound:1.2} expected wounds')\n",
    "    print(f'{eKill:1.2} expected kills')\n",
    "\n"
   ]
  },
  {
   "cell_type": "markdown",
   "metadata": {},
   "source": [
    "**Example 1, (cont'd)**\n",
    "\n",
    "A regular (D8) squad of 8  soldiers consisting of 7 advanced assault rifles (In Stargrunt, the number of small arms (7) is multiplied by a firepower factor (2) and the result rounded up to the next die type, limited to D12. The impact dice for advanced assualt rifles is D10.) and the squad's Gauss machine gun (firepower of D10) fires on another squad wearing partial light armor (D6), behind soft cover, at a distance of about 140 meters (14'' ground scale, range band 2 for regular troops, up one for the cover: range die of D8)."
   ]
  },
  {
   "cell_type": "code",
   "execution_count": 17,
   "metadata": {},
   "outputs": [
    {
     "name": "stdout",
     "output_type": "stream",
     "text": [
      "90.5% suppression\n",
      "0.18 expected wounds\n",
      "0.5 expected kills\n"
     ]
    }
   ],
   "source": [
    "fire_results(8, 6, [8,12,10], 10)"
   ]
  },
  {
   "cell_type": "markdown",
   "metadata": {},
   "source": [
    "The squad can expect the target to be suppressed 90% of the time, with one wound every five turns and one kill every two turns.\n",
    "\n",
    "**Example2 (cont'd)**\n",
    "\n",
    "The same squad attacks the same target without using the Gauss machine gun, and at 400 meters."
   ]
  },
  {
   "cell_type": "code",
   "execution_count": 11,
   "metadata": {},
   "outputs": [
    {
     "name": "stdout",
     "output_type": "stream",
     "text": [
      "61.6% suppression\n",
      "0.019 expected wounds\n",
      "0.054 expected kills\n"
     ]
    }
   ],
   "source": [
    "fire_results(12, 6, [8, 12], 10)"
   ]
  },
  {
   "cell_type": "markdown",
   "metadata": {},
   "source": [
    "In this case, the squad can expect the target to be suppressed 62% of the time, with a wound every fifty turns and a kill every twenty turns."
   ]
  },
  {
   "cell_type": "markdown",
   "metadata": {},
   "source": [
    "## Conclusion\n",
    "\n",
    "Infantry fire combat in StarGrunt II is mostly a game of suppression and not especially lethal.\n",
    "\n",
    "The Jupyter Python 3 notebook that generated this document is available at https://github.com/tmmcguire/The-Napoleonic-Wars-2e/blob/master/Stargrunt%20II.ipynb. PDF generation using `jupyter nbconvert` uses the `pre_pymarkdown.PyMarkdownPreprocessor` preprocessor."
   ]
  }
 ],
 "metadata": {
  "kernelspec": {
   "display_name": "Python 3",
   "language": "python",
   "name": "python3"
  },
  "language_info": {
   "codemirror_mode": {
    "name": "ipython",
    "version": 3
   },
   "file_extension": ".py",
   "mimetype": "text/x-python",
   "name": "python",
   "nbconvert_exporter": "python",
   "pygments_lexer": "ipython3",
   "version": "3.6.9"
  }
 },
 "nbformat": 4,
 "nbformat_minor": 2
}
