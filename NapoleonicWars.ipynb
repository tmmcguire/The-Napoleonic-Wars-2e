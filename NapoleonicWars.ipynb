{
 "cells": [
  {
   "cell_type": "markdown",
   "metadata": {},
   "source": [
    "In [Fistful of Dice - Best Implementation](https://boardgamegeek.com/thread/2277177/fistful-dice-best-implementation/page/4), Jason Cawley wrote:\n",
    "\n",
    "> But throw 14 dice vs 12 dice in a Napoleonic Wars battle, and outcomes are possible that are 1/3^26, or about one in 10 trillion to 1 against. “But that won’t happen”, you’ll say. Sure, and nobody will win the lottery tomorrow. Oh right. Napoleon, Lannes, and 7 French armies evaporate; Charles with a 1-4 and 8 Austrians is untouched. \n",
    "\n",
    "...\n",
    "     \n",
    "> Ken - it’s an actual game, not a hypothetical. All 6s are kills and all 5s are disrupts; if one side’s total of both exceeds the other by 3 or more it is a rout and all the 5s “promote” to 6s aka unit kills. Dice are given for SPs, leaders, and a national bonus (2 French, 1 other major powers, 0 minor powers), so number of dice thrown strictly exceeds number of forces present.\n",
    "\n",
    "> We all see exactly what that is *meant* to do - give an expectation of 15-20% losses in equal fights, but with 30-40% losses to the losers of outlier routs, that are to become more common as the odds rise. We understand the variance around that is expected to be limited 1-2 SD stuff.\n",
    "\n",
    "> But the 1 in 10 trillion outcomes being there moves us off that original design intention. If you do the math, the 100% wipeout of the superior French force in the example is about 0.2% or 1/500 to happen. There were a couple hundred major battles the in whole course of the Napoleonic wars (Napoleon was in 50 himself); the event described would be expected never to once in the course of them. \n",
    "\n",
    "So, the question is, what is the probability of a Total Army Kill (TAK) of a 7 unit army rolling 14 dice vs. an army rolling 12 dice?"
   ]
  },
  {
   "cell_type": "code",
   "execution_count": 1,
   "metadata": {},
   "outputs": [],
   "source": [
    "import scipy\n",
    "from scipy.stats import binom"
   ]
  },
  {
   "cell_type": "markdown",
   "metadata": {},
   "source": [
    "The probability of rolling *i* successes on *n* dice, where the probability of a success on one dice is *p* is given by the binomial discrete probability mass function.\n",
    "\n",
    "    binom.pmf(i, n, p)"
   ]
  },
  {
   "cell_type": "code",
   "execution_count": 2,
   "metadata": {},
   "outputs": [
    {
     "data": {
      "text/plain": [
       "0.16666666666666669"
      ]
     },
     "execution_count": 2,
     "metadata": {},
     "output_type": "execute_result"
    }
   ],
   "source": [
    "binom.pmf(1, 1, 1/6) # probablity of rolling a 6 on 1D6."
   ]
  },
  {
   "cell_type": "markdown",
   "metadata": {},
   "source": [
    "My plan here is to divide the computation into a (large) number of scenarios, compute the probability of each scenario, then sum the probabilities up to get the overall probability.\n",
    "\n",
    "The probability of a TAK is \n",
    "\n",
    "- the probability of a natual TAK times the probability of not having a rout plus\n",
    "\n",
    "- the probability of a rout TAK times the probability of a rout.\n",
    "\n",
    "In the first case, the scenarios have the Austrian player rolling enough kill results to eliminate the French army (7 or more) and also rolling  disrupt results (12 minus the number of kill results or less) so that the total number of French hit results (enemy kills plus disrupts) does not cause a rout (French kills plus disrupts minus two, or more)."
   ]
  },
  {
   "cell_type": "code",
   "execution_count": 3,
   "metadata": {
    "scrolled": true
   },
   "outputs": [
    {
     "data": {
      "text/plain": [
       "[(7, 0, 5),\n",
       " (7, 0, 6),\n",
       " (7, 0, 7),\n",
       " (7, 0, 8),\n",
       " (7, 0, 9),\n",
       " (7, 0, 10),\n",
       " (7, 0, 11),\n",
       " (7, 0, 12),\n",
       " (7, 0, 13),\n",
       " (7, 0, 14),\n",
       " (7, 1, 6),\n",
       " (7, 1, 7),\n",
       " (7, 1, 8),\n",
       " (7, 1, 9),\n",
       " (7, 1, 10),\n",
       " (7, 1, 11),\n",
       " (7, 1, 12),\n",
       " (7, 1, 13),\n",
       " (7, 1, 14),\n",
       " (7, 2, 7),\n",
       " (7, 2, 8),\n",
       " (7, 2, 9),\n",
       " (7, 2, 10),\n",
       " (7, 2, 11),\n",
       " (7, 2, 12),\n",
       " (7, 2, 13),\n",
       " (7, 2, 14),\n",
       " (7, 3, 8),\n",
       " (7, 3, 9),\n",
       " (7, 3, 10),\n",
       " (7, 3, 11),\n",
       " (7, 3, 12),\n",
       " (7, 3, 13),\n",
       " (7, 3, 14),\n",
       " (7, 4, 9),\n",
       " (7, 4, 10),\n",
       " (7, 4, 11),\n",
       " (7, 4, 12),\n",
       " (7, 4, 13),\n",
       " (7, 4, 14),\n",
       " (7, 5, 10),\n",
       " (7, 5, 11),\n",
       " (7, 5, 12),\n",
       " (7, 5, 13),\n",
       " (7, 5, 14),\n",
       " (8, 0, 6),\n",
       " (8, 0, 7),\n",
       " (8, 0, 8),\n",
       " (8, 0, 9),\n",
       " (8, 0, 10),\n",
       " (8, 0, 11),\n",
       " (8, 0, 12),\n",
       " (8, 0, 13),\n",
       " (8, 0, 14),\n",
       " (8, 1, 7),\n",
       " (8, 1, 8),\n",
       " (8, 1, 9),\n",
       " (8, 1, 10),\n",
       " (8, 1, 11),\n",
       " (8, 1, 12),\n",
       " (8, 1, 13),\n",
       " (8, 1, 14),\n",
       " (8, 2, 8),\n",
       " (8, 2, 9),\n",
       " (8, 2, 10),\n",
       " (8, 2, 11),\n",
       " (8, 2, 12),\n",
       " (8, 2, 13),\n",
       " (8, 2, 14),\n",
       " (8, 3, 9),\n",
       " (8, 3, 10),\n",
       " (8, 3, 11),\n",
       " (8, 3, 12),\n",
       " (8, 3, 13),\n",
       " (8, 3, 14),\n",
       " (8, 4, 10),\n",
       " (8, 4, 11),\n",
       " (8, 4, 12),\n",
       " (8, 4, 13),\n",
       " (8, 4, 14),\n",
       " (9, 0, 7),\n",
       " (9, 0, 8),\n",
       " (9, 0, 9),\n",
       " (9, 0, 10),\n",
       " (9, 0, 11),\n",
       " (9, 0, 12),\n",
       " (9, 0, 13),\n",
       " (9, 0, 14),\n",
       " (9, 1, 8),\n",
       " (9, 1, 9),\n",
       " (9, 1, 10),\n",
       " (9, 1, 11),\n",
       " (9, 1, 12),\n",
       " (9, 1, 13),\n",
       " (9, 1, 14),\n",
       " (9, 2, 9),\n",
       " (9, 2, 10),\n",
       " (9, 2, 11),\n",
       " (9, 2, 12),\n",
       " (9, 2, 13),\n",
       " (9, 2, 14),\n",
       " (9, 3, 10),\n",
       " (9, 3, 11),\n",
       " (9, 3, 12),\n",
       " (9, 3, 13),\n",
       " (9, 3, 14),\n",
       " (10, 0, 8),\n",
       " (10, 0, 9),\n",
       " (10, 0, 10),\n",
       " (10, 0, 11),\n",
       " (10, 0, 12),\n",
       " (10, 0, 13),\n",
       " (10, 0, 14),\n",
       " (10, 1, 9),\n",
       " (10, 1, 10),\n",
       " (10, 1, 11),\n",
       " (10, 1, 12),\n",
       " (10, 1, 13),\n",
       " (10, 1, 14),\n",
       " (10, 2, 10),\n",
       " (10, 2, 11),\n",
       " (10, 2, 12),\n",
       " (10, 2, 13),\n",
       " (10, 2, 14),\n",
       " (11, 0, 9),\n",
       " (11, 0, 10),\n",
       " (11, 0, 11),\n",
       " (11, 0, 12),\n",
       " (11, 0, 13),\n",
       " (11, 0, 14),\n",
       " (11, 1, 10),\n",
       " (11, 1, 11),\n",
       " (11, 1, 12),\n",
       " (11, 1, 13),\n",
       " (11, 1, 14),\n",
       " (12, 0, 10),\n",
       " (12, 0, 11),\n",
       " (12, 0, 12),\n",
       " (12, 0, 13),\n",
       " (12, 0, 14)]"
      ]
     },
     "execution_count": 3,
     "metadata": {},
     "output_type": "execute_result"
    }
   ],
   "source": [
    "naturalKillScenarios = [\n",
    "    (kills, disrupts, enemyhits)\n",
    "    for kills in [7, 8, 9, 10, 11, 12]\n",
    "    for disrupts in range(0, 12 - kills + 1)\n",
    "    for enemyhits in range(kills + disrupts - 2, 14 + 1)\n",
    "]\n",
    "naturalKillScenarios"
   ]
  },
  {
   "cell_type": "markdown",
   "metadata": {},
   "source": [
    "One such scenario has the Austrian player rolling 7 sixes and no fives, while the French player rolls 5 fives or sixes. The next scenario is the same, except the French player rolls 6 fives or sixes.\n",
    "\n",
    "The probability of each scenario is\n",
    "\n",
    "- the probability of the Austrian player rolling \n",
    "    - the given number of kills on 12 dice, times\n",
    "    - the given number of disruptions on 12 - the number of kills dice,\n",
    "- times the probability of the French player rolling\n",
    "    - the given number of hits on 14 dice.\n",
    "    \n",
    "The probability of a natural kill is the sum of the probabilies of the scenarios."
   ]
  },
  {
   "cell_type": "code",
   "execution_count": 4,
   "metadata": {
    "scrolled": false
   },
   "outputs": [
    {
     "data": {
      "text/plain": [
       "0.0004427257464841527"
      ]
     },
     "execution_count": 4,
     "metadata": {},
     "output_type": "execute_result"
    }
   ],
   "source": [
    "pNaturalKill = sum([\n",
    "    (\n",
    "        binom.pmf(kills, 12, 1/6) *\n",
    "        binom.pmf(disrupts, 12 - kills, 1/6) *\n",
    "        binom.pmf(enemyhits, 14, 2/6)\n",
    "    )\n",
    "    for (kills, disrupts, enemyhits) in naturalKillScenarios\n",
    "])\n",
    "pNaturalKill"
   ]
  },
  {
   "cell_type": "markdown",
   "metadata": {},
   "source": [
    "Thus, the probability of a natural kill is roughly 1 in 2,259.\n",
    "\n",
    "Rout scenarios, on the other hand, have the Austrian player rolling enough hits (kills and disrupts) to eliminate the French Army if the French rout, while the French do not roll enough hits to prevent them from routing. In other words, the Austrians roll 7 or more fives or sixes, while the French roll the number of Austrian hits minus 2 or fewer fives or sixes."
   ]
  },
  {
   "cell_type": "code",
   "execution_count": 5,
   "metadata": {
    "scrolled": true
   },
   "outputs": [
    {
     "data": {
      "text/plain": [
       "[(7, 0),\n",
       " (7, 1),\n",
       " (7, 2),\n",
       " (7, 3),\n",
       " (7, 4),\n",
       " (8, 0),\n",
       " (8, 1),\n",
       " (8, 2),\n",
       " (8, 3),\n",
       " (8, 4),\n",
       " (8, 5),\n",
       " (9, 0),\n",
       " (9, 1),\n",
       " (9, 2),\n",
       " (9, 3),\n",
       " (9, 4),\n",
       " (9, 5),\n",
       " (9, 6),\n",
       " (10, 0),\n",
       " (10, 1),\n",
       " (10, 2),\n",
       " (10, 3),\n",
       " (10, 4),\n",
       " (10, 5),\n",
       " (10, 6),\n",
       " (10, 7),\n",
       " (11, 0),\n",
       " (11, 1),\n",
       " (11, 2),\n",
       " (11, 3),\n",
       " (11, 4),\n",
       " (11, 5),\n",
       " (11, 6),\n",
       " (11, 7),\n",
       " (11, 8),\n",
       " (12, 0),\n",
       " (12, 1),\n",
       " (12, 2),\n",
       " (12, 3),\n",
       " (12, 4),\n",
       " (12, 5),\n",
       " (12, 6),\n",
       " (12, 7),\n",
       " (12, 8),\n",
       " (12, 9)]"
      ]
     },
     "execution_count": 5,
     "metadata": {},
     "output_type": "execute_result"
    }
   ],
   "source": [
    "routScenarios = [\n",
    "    (hits, enemyhits)\n",
    "    for hits in range(7, 12 + 1)\n",
    "    for enemyhits in range(0, hits - 3 + 1)\n",
    "]\n",
    "routScenarios"
   ]
  },
  {
   "cell_type": "code",
   "execution_count": 6,
   "metadata": {},
   "outputs": [
    {
     "data": {
      "text/plain": [
       "0.03628751424249502"
      ]
     },
     "execution_count": 6,
     "metadata": {},
     "output_type": "execute_result"
    }
   ],
   "source": [
    "pRoutKill = sum([\n",
    "    (\n",
    "        binom.pmf(hits, 12, 2/6) *\n",
    "        binom.pmf(enemyhits, 14, 2/6)\n",
    "    )\n",
    "    for (hits, enemyhits) in routScenarios\n",
    "])\n",
    "pRoutKill"
   ]
  },
  {
   "cell_type": "markdown",
   "metadata": {},
   "source": [
    "This term is quite large, roughly 3.6% or 1 in 28."
   ]
  },
  {
   "cell_type": "code",
   "execution_count": 7,
   "metadata": {},
   "outputs": [
    {
     "data": {
      "text/plain": [
       "0.03673023998897917"
      ]
     },
     "execution_count": 7,
     "metadata": {},
     "output_type": "execute_result"
    }
   ],
   "source": [
    "pTAK = pNaturalKill + pRoutKill\n",
    "pTAK"
   ]
  },
  {
   "cell_type": "markdown",
   "metadata": {},
   "source": [
    "The overall result is about 3.7%. That seems high."
   ]
  }
 ],
 "metadata": {
  "kernelspec": {
   "display_name": "Python 3",
   "language": "python",
   "name": "python3"
  },
  "language_info": {
   "codemirror_mode": {
    "name": "ipython",
    "version": 3
   },
   "file_extension": ".py",
   "mimetype": "text/x-python",
   "name": "python",
   "nbconvert_exporter": "python",
   "pygments_lexer": "ipython3",
   "version": "3.6.8"
  }
 },
 "nbformat": 4,
 "nbformat_minor": 2
}
